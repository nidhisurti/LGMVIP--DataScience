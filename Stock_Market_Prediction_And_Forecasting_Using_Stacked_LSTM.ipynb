{
  "nbformat": 4,
  "nbformat_minor": 0,
  "metadata": {
    "colab": {
      "name": "Stock Market Prediction And Forecasting Using Stacked LSTM.ipynb",
      "provenance": [],
      "collapsed_sections": []
    },
    "kernelspec": {
      "name": "python3",
      "display_name": "Python 3"
    },
    "language_info": {
      "name": "python"
    }
  },
  "cells": [
    {
      "cell_type": "markdown",
      "source": [
        "Importing neccessary Libraries "
      ],
      "metadata": {
        "id": "fGEwEyrD4Ikv"
      }
    },
    {
      "cell_type": "code",
      "execution_count": 2,
      "metadata": {
        "id": "u-iNDZVLUTZS"
      },
      "outputs": [],
      "source": [
        "import pandas as pd\n",
        "import numpy as np \n",
        "import matplotlib.pyplot as plt \n",
        "from sklearn.preprocessing import MinMaxScaler\n",
        "\n",
        "#Ignoring warnings \n",
        "import warnings\n",
        "warnings.filterwarnings(\"ignore\")"
      ]
    },
    {
      "cell_type": "markdown",
      "source": [
        "Reading the data "
      ],
      "metadata": {
        "id": "B9r9WPtG4UvC"
      }
    },
    {
      "cell_type": "code",
      "source": [
        "dataset_link = \"https://raw.githubusercontent.com/mwitiderrick/stockprice/master/NSE-TATAGLOBAL.csv\"\n",
        "data = pd.read_csv(dataset_link)\n",
        "data.head()"
      ],
      "metadata": {
        "colab": {
          "base_uri": "https://localhost:8080/",
          "height": 206
        },
        "id": "PVpA2ZAOY31V",
        "outputId": "ad7b3eb0-640b-42b9-ca3c-808d682d5f3e"
      },
      "execution_count": 3,
      "outputs": [
        {
          "output_type": "execute_result",
          "data": {
            "text/plain": [
              "         Date    Open    High     Low    Last   Close  Total Trade Quantity  \\\n",
              "0  2018-09-28  234.05  235.95  230.20  233.50  233.75               3069914   \n",
              "1  2018-09-27  234.55  236.80  231.10  233.80  233.25               5082859   \n",
              "2  2018-09-26  240.00  240.00  232.50  235.00  234.25               2240909   \n",
              "3  2018-09-25  233.30  236.75  232.00  236.25  236.10               2349368   \n",
              "4  2018-09-24  233.55  239.20  230.75  234.00  233.30               3423509   \n",
              "\n",
              "   Turnover (Lacs)  \n",
              "0          7162.35  \n",
              "1         11859.95  \n",
              "2          5248.60  \n",
              "3          5503.90  \n",
              "4          7999.55  "
            ],
            "text/html": [
              "\n",
              "  <div id=\"df-6808490e-8285-4aa0-8284-458ebbc324c4\">\n",
              "    <div class=\"colab-df-container\">\n",
              "      <div>\n",
              "<style scoped>\n",
              "    .dataframe tbody tr th:only-of-type {\n",
              "        vertical-align: middle;\n",
              "    }\n",
              "\n",
              "    .dataframe tbody tr th {\n",
              "        vertical-align: top;\n",
              "    }\n",
              "\n",
              "    .dataframe thead th {\n",
              "        text-align: right;\n",
              "    }\n",
              "</style>\n",
              "<table border=\"1\" class=\"dataframe\">\n",
              "  <thead>\n",
              "    <tr style=\"text-align: right;\">\n",
              "      <th></th>\n",
              "      <th>Date</th>\n",
              "      <th>Open</th>\n",
              "      <th>High</th>\n",
              "      <th>Low</th>\n",
              "      <th>Last</th>\n",
              "      <th>Close</th>\n",
              "      <th>Total Trade Quantity</th>\n",
              "      <th>Turnover (Lacs)</th>\n",
              "    </tr>\n",
              "  </thead>\n",
              "  <tbody>\n",
              "    <tr>\n",
              "      <th>0</th>\n",
              "      <td>2018-09-28</td>\n",
              "      <td>234.05</td>\n",
              "      <td>235.95</td>\n",
              "      <td>230.20</td>\n",
              "      <td>233.50</td>\n",
              "      <td>233.75</td>\n",
              "      <td>3069914</td>\n",
              "      <td>7162.35</td>\n",
              "    </tr>\n",
              "    <tr>\n",
              "      <th>1</th>\n",
              "      <td>2018-09-27</td>\n",
              "      <td>234.55</td>\n",
              "      <td>236.80</td>\n",
              "      <td>231.10</td>\n",
              "      <td>233.80</td>\n",
              "      <td>233.25</td>\n",
              "      <td>5082859</td>\n",
              "      <td>11859.95</td>\n",
              "    </tr>\n",
              "    <tr>\n",
              "      <th>2</th>\n",
              "      <td>2018-09-26</td>\n",
              "      <td>240.00</td>\n",
              "      <td>240.00</td>\n",
              "      <td>232.50</td>\n",
              "      <td>235.00</td>\n",
              "      <td>234.25</td>\n",
              "      <td>2240909</td>\n",
              "      <td>5248.60</td>\n",
              "    </tr>\n",
              "    <tr>\n",
              "      <th>3</th>\n",
              "      <td>2018-09-25</td>\n",
              "      <td>233.30</td>\n",
              "      <td>236.75</td>\n",
              "      <td>232.00</td>\n",
              "      <td>236.25</td>\n",
              "      <td>236.10</td>\n",
              "      <td>2349368</td>\n",
              "      <td>5503.90</td>\n",
              "    </tr>\n",
              "    <tr>\n",
              "      <th>4</th>\n",
              "      <td>2018-09-24</td>\n",
              "      <td>233.55</td>\n",
              "      <td>239.20</td>\n",
              "      <td>230.75</td>\n",
              "      <td>234.00</td>\n",
              "      <td>233.30</td>\n",
              "      <td>3423509</td>\n",
              "      <td>7999.55</td>\n",
              "    </tr>\n",
              "  </tbody>\n",
              "</table>\n",
              "</div>\n",
              "      <button class=\"colab-df-convert\" onclick=\"convertToInteractive('df-6808490e-8285-4aa0-8284-458ebbc324c4')\"\n",
              "              title=\"Convert this dataframe to an interactive table.\"\n",
              "              style=\"display:none;\">\n",
              "        \n",
              "  <svg xmlns=\"http://www.w3.org/2000/svg\" height=\"24px\"viewBox=\"0 0 24 24\"\n",
              "       width=\"24px\">\n",
              "    <path d=\"M0 0h24v24H0V0z\" fill=\"none\"/>\n",
              "    <path d=\"M18.56 5.44l.94 2.06.94-2.06 2.06-.94-2.06-.94-.94-2.06-.94 2.06-2.06.94zm-11 1L8.5 8.5l.94-2.06 2.06-.94-2.06-.94L8.5 2.5l-.94 2.06-2.06.94zm10 10l.94 2.06.94-2.06 2.06-.94-2.06-.94-.94-2.06-.94 2.06-2.06.94z\"/><path d=\"M17.41 7.96l-1.37-1.37c-.4-.4-.92-.59-1.43-.59-.52 0-1.04.2-1.43.59L10.3 9.45l-7.72 7.72c-.78.78-.78 2.05 0 2.83L4 21.41c.39.39.9.59 1.41.59.51 0 1.02-.2 1.41-.59l7.78-7.78 2.81-2.81c.8-.78.8-2.07 0-2.86zM5.41 20L4 18.59l7.72-7.72 1.47 1.35L5.41 20z\"/>\n",
              "  </svg>\n",
              "      </button>\n",
              "      \n",
              "  <style>\n",
              "    .colab-df-container {\n",
              "      display:flex;\n",
              "      flex-wrap:wrap;\n",
              "      gap: 12px;\n",
              "    }\n",
              "\n",
              "    .colab-df-convert {\n",
              "      background-color: #E8F0FE;\n",
              "      border: none;\n",
              "      border-radius: 50%;\n",
              "      cursor: pointer;\n",
              "      display: none;\n",
              "      fill: #1967D2;\n",
              "      height: 32px;\n",
              "      padding: 0 0 0 0;\n",
              "      width: 32px;\n",
              "    }\n",
              "\n",
              "    .colab-df-convert:hover {\n",
              "      background-color: #E2EBFA;\n",
              "      box-shadow: 0px 1px 2px rgba(60, 64, 67, 0.3), 0px 1px 3px 1px rgba(60, 64, 67, 0.15);\n",
              "      fill: #174EA6;\n",
              "    }\n",
              "\n",
              "    [theme=dark] .colab-df-convert {\n",
              "      background-color: #3B4455;\n",
              "      fill: #D2E3FC;\n",
              "    }\n",
              "\n",
              "    [theme=dark] .colab-df-convert:hover {\n",
              "      background-color: #434B5C;\n",
              "      box-shadow: 0px 1px 3px 1px rgba(0, 0, 0, 0.15);\n",
              "      filter: drop-shadow(0px 1px 2px rgba(0, 0, 0, 0.3));\n",
              "      fill: #FFFFFF;\n",
              "    }\n",
              "  </style>\n",
              "\n",
              "      <script>\n",
              "        const buttonEl =\n",
              "          document.querySelector('#df-6808490e-8285-4aa0-8284-458ebbc324c4 button.colab-df-convert');\n",
              "        buttonEl.style.display =\n",
              "          google.colab.kernel.accessAllowed ? 'block' : 'none';\n",
              "\n",
              "        async function convertToInteractive(key) {\n",
              "          const element = document.querySelector('#df-6808490e-8285-4aa0-8284-458ebbc324c4');\n",
              "          const dataTable =\n",
              "            await google.colab.kernel.invokeFunction('convertToInteractive',\n",
              "                                                     [key], {});\n",
              "          if (!dataTable) return;\n",
              "\n",
              "          const docLinkHtml = 'Like what you see? Visit the ' +\n",
              "            '<a target=\"_blank\" href=https://colab.research.google.com/notebooks/data_table.ipynb>data table notebook</a>'\n",
              "            + ' to learn more about interactive tables.';\n",
              "          element.innerHTML = '';\n",
              "          dataTable['output_type'] = 'display_data';\n",
              "          await google.colab.output.renderOutput(dataTable, element);\n",
              "          const docLink = document.createElement('div');\n",
              "          docLink.innerHTML = docLinkHtml;\n",
              "          element.appendChild(docLink);\n",
              "        }\n",
              "      </script>\n",
              "    </div>\n",
              "  </div>\n",
              "  "
            ]
          },
          "metadata": {},
          "execution_count": 3
        }
      ]
    },
    {
      "cell_type": "markdown",
      "source": [
        "Exploring the data and making the required changes for better understanding \n",
        "\n"
      ],
      "metadata": {
        "id": "iSQ4o24C4iST"
      }
    },
    {
      "cell_type": "code",
      "source": [
        "data.isnull().sum()\n",
        "# No null values so we can proceed "
      ],
      "metadata": {
        "colab": {
          "base_uri": "https://localhost:8080/"
        },
        "id": "sAHAWWXi4xZP",
        "outputId": "408d44d5-b5f8-4ded-f7fd-687c07f83e42"
      },
      "execution_count": 4,
      "outputs": [
        {
          "output_type": "execute_result",
          "data": {
            "text/plain": [
              "Date                    0\n",
              "Open                    0\n",
              "High                    0\n",
              "Low                     0\n",
              "Last                    0\n",
              "Close                   0\n",
              "Total Trade Quantity    0\n",
              "Turnover (Lacs)         0\n",
              "dtype: int64"
            ]
          },
          "metadata": {},
          "execution_count": 4
        }
      ]
    },
    {
      "cell_type": "code",
      "source": [
        "data['Date'] = pd.to_datetime(data['Date'])"
      ],
      "metadata": {
        "id": "oQwadtHX5ciA"
      },
      "execution_count": 6,
      "outputs": []
    },
    {
      "cell_type": "code",
      "source": [
        "df = data.sort_values('Date')\n",
        "df.head()"
      ],
      "metadata": {
        "colab": {
          "base_uri": "https://localhost:8080/",
          "height": 206
        },
        "id": "We3ybegg5rkH",
        "outputId": "58ec2573-ac70-4baf-ddd0-26a63a5b3ebb"
      },
      "execution_count": 5,
      "outputs": [
        {
          "output_type": "execute_result",
          "data": {
            "text/plain": [
              "            Date   Open    High     Low    Last   Close  Total Trade Quantity  \\\n",
              "2034  2010-07-21  122.1  123.00  121.05  121.10  121.55                658666   \n",
              "2033  2010-07-22  120.3  122.00  120.25  120.75  120.90                293312   \n",
              "2032  2010-07-23  121.8  121.95  120.25  120.35  120.65                281312   \n",
              "2031  2010-07-26  120.1  121.00  117.10  117.10  117.60                658440   \n",
              "2030  2010-07-27  117.6  119.50  112.00  118.80  118.65                586100   \n",
              "\n",
              "      Turnover (Lacs)  \n",
              "2034           803.56  \n",
              "2033           355.17  \n",
              "2032           340.31  \n",
              "2031           780.01  \n",
              "2030           694.98  "
            ],
            "text/html": [
              "\n",
              "  <div id=\"df-c33b3a21-bc69-450e-9440-1d08c43002d3\">\n",
              "    <div class=\"colab-df-container\">\n",
              "      <div>\n",
              "<style scoped>\n",
              "    .dataframe tbody tr th:only-of-type {\n",
              "        vertical-align: middle;\n",
              "    }\n",
              "\n",
              "    .dataframe tbody tr th {\n",
              "        vertical-align: top;\n",
              "    }\n",
              "\n",
              "    .dataframe thead th {\n",
              "        text-align: right;\n",
              "    }\n",
              "</style>\n",
              "<table border=\"1\" class=\"dataframe\">\n",
              "  <thead>\n",
              "    <tr style=\"text-align: right;\">\n",
              "      <th></th>\n",
              "      <th>Date</th>\n",
              "      <th>Open</th>\n",
              "      <th>High</th>\n",
              "      <th>Low</th>\n",
              "      <th>Last</th>\n",
              "      <th>Close</th>\n",
              "      <th>Total Trade Quantity</th>\n",
              "      <th>Turnover (Lacs)</th>\n",
              "    </tr>\n",
              "  </thead>\n",
              "  <tbody>\n",
              "    <tr>\n",
              "      <th>2034</th>\n",
              "      <td>2010-07-21</td>\n",
              "      <td>122.1</td>\n",
              "      <td>123.00</td>\n",
              "      <td>121.05</td>\n",
              "      <td>121.10</td>\n",
              "      <td>121.55</td>\n",
              "      <td>658666</td>\n",
              "      <td>803.56</td>\n",
              "    </tr>\n",
              "    <tr>\n",
              "      <th>2033</th>\n",
              "      <td>2010-07-22</td>\n",
              "      <td>120.3</td>\n",
              "      <td>122.00</td>\n",
              "      <td>120.25</td>\n",
              "      <td>120.75</td>\n",
              "      <td>120.90</td>\n",
              "      <td>293312</td>\n",
              "      <td>355.17</td>\n",
              "    </tr>\n",
              "    <tr>\n",
              "      <th>2032</th>\n",
              "      <td>2010-07-23</td>\n",
              "      <td>121.8</td>\n",
              "      <td>121.95</td>\n",
              "      <td>120.25</td>\n",
              "      <td>120.35</td>\n",
              "      <td>120.65</td>\n",
              "      <td>281312</td>\n",
              "      <td>340.31</td>\n",
              "    </tr>\n",
              "    <tr>\n",
              "      <th>2031</th>\n",
              "      <td>2010-07-26</td>\n",
              "      <td>120.1</td>\n",
              "      <td>121.00</td>\n",
              "      <td>117.10</td>\n",
              "      <td>117.10</td>\n",
              "      <td>117.60</td>\n",
              "      <td>658440</td>\n",
              "      <td>780.01</td>\n",
              "    </tr>\n",
              "    <tr>\n",
              "      <th>2030</th>\n",
              "      <td>2010-07-27</td>\n",
              "      <td>117.6</td>\n",
              "      <td>119.50</td>\n",
              "      <td>112.00</td>\n",
              "      <td>118.80</td>\n",
              "      <td>118.65</td>\n",
              "      <td>586100</td>\n",
              "      <td>694.98</td>\n",
              "    </tr>\n",
              "  </tbody>\n",
              "</table>\n",
              "</div>\n",
              "      <button class=\"colab-df-convert\" onclick=\"convertToInteractive('df-c33b3a21-bc69-450e-9440-1d08c43002d3')\"\n",
              "              title=\"Convert this dataframe to an interactive table.\"\n",
              "              style=\"display:none;\">\n",
              "        \n",
              "  <svg xmlns=\"http://www.w3.org/2000/svg\" height=\"24px\"viewBox=\"0 0 24 24\"\n",
              "       width=\"24px\">\n",
              "    <path d=\"M0 0h24v24H0V0z\" fill=\"none\"/>\n",
              "    <path d=\"M18.56 5.44l.94 2.06.94-2.06 2.06-.94-2.06-.94-.94-2.06-.94 2.06-2.06.94zm-11 1L8.5 8.5l.94-2.06 2.06-.94-2.06-.94L8.5 2.5l-.94 2.06-2.06.94zm10 10l.94 2.06.94-2.06 2.06-.94-2.06-.94-.94-2.06-.94 2.06-2.06.94z\"/><path d=\"M17.41 7.96l-1.37-1.37c-.4-.4-.92-.59-1.43-.59-.52 0-1.04.2-1.43.59L10.3 9.45l-7.72 7.72c-.78.78-.78 2.05 0 2.83L4 21.41c.39.39.9.59 1.41.59.51 0 1.02-.2 1.41-.59l7.78-7.78 2.81-2.81c.8-.78.8-2.07 0-2.86zM5.41 20L4 18.59l7.72-7.72 1.47 1.35L5.41 20z\"/>\n",
              "  </svg>\n",
              "      </button>\n",
              "      \n",
              "  <style>\n",
              "    .colab-df-container {\n",
              "      display:flex;\n",
              "      flex-wrap:wrap;\n",
              "      gap: 12px;\n",
              "    }\n",
              "\n",
              "    .colab-df-convert {\n",
              "      background-color: #E8F0FE;\n",
              "      border: none;\n",
              "      border-radius: 50%;\n",
              "      cursor: pointer;\n",
              "      display: none;\n",
              "      fill: #1967D2;\n",
              "      height: 32px;\n",
              "      padding: 0 0 0 0;\n",
              "      width: 32px;\n",
              "    }\n",
              "\n",
              "    .colab-df-convert:hover {\n",
              "      background-color: #E2EBFA;\n",
              "      box-shadow: 0px 1px 2px rgba(60, 64, 67, 0.3), 0px 1px 3px 1px rgba(60, 64, 67, 0.15);\n",
              "      fill: #174EA6;\n",
              "    }\n",
              "\n",
              "    [theme=dark] .colab-df-convert {\n",
              "      background-color: #3B4455;\n",
              "      fill: #D2E3FC;\n",
              "    }\n",
              "\n",
              "    [theme=dark] .colab-df-convert:hover {\n",
              "      background-color: #434B5C;\n",
              "      box-shadow: 0px 1px 3px 1px rgba(0, 0, 0, 0.15);\n",
              "      filter: drop-shadow(0px 1px 2px rgba(0, 0, 0, 0.3));\n",
              "      fill: #FFFFFF;\n",
              "    }\n",
              "  </style>\n",
              "\n",
              "      <script>\n",
              "        const buttonEl =\n",
              "          document.querySelector('#df-c33b3a21-bc69-450e-9440-1d08c43002d3 button.colab-df-convert');\n",
              "        buttonEl.style.display =\n",
              "          google.colab.kernel.accessAllowed ? 'block' : 'none';\n",
              "\n",
              "        async function convertToInteractive(key) {\n",
              "          const element = document.querySelector('#df-c33b3a21-bc69-450e-9440-1d08c43002d3');\n",
              "          const dataTable =\n",
              "            await google.colab.kernel.invokeFunction('convertToInteractive',\n",
              "                                                     [key], {});\n",
              "          if (!dataTable) return;\n",
              "\n",
              "          const docLinkHtml = 'Like what you see? Visit the ' +\n",
              "            '<a target=\"_blank\" href=https://colab.research.google.com/notebooks/data_table.ipynb>data table notebook</a>'\n",
              "            + ' to learn more about interactive tables.';\n",
              "          element.innerHTML = '';\n",
              "          dataTable['output_type'] = 'display_data';\n",
              "          await google.colab.output.renderOutput(dataTable, element);\n",
              "          const docLink = document.createElement('div');\n",
              "          docLink.innerHTML = docLinkHtml;\n",
              "          element.appendChild(docLink);\n",
              "        }\n",
              "      </script>\n",
              "    </div>\n",
              "  </div>\n",
              "  "
            ]
          },
          "metadata": {},
          "execution_count": 5
        }
      ]
    },
    {
      "cell_type": "code",
      "source": [
        "df.reset_index(inplace=True)"
      ],
      "metadata": {
        "id": "KFpNvzR156e4"
      },
      "execution_count": null,
      "outputs": []
    },
    {
      "cell_type": "markdown",
      "source": [
        "Visualizing the data "
      ],
      "metadata": {
        "id": "UwGJfAhE6jCm"
      }
    },
    {
      "cell_type": "code",
      "source": [
        "plt.plot(df['Close'])"
      ],
      "metadata": {
        "colab": {
          "base_uri": "https://localhost:8080/",
          "height": 282
        },
        "id": "hVV-_jBb6o5j",
        "outputId": "3a7ed4a7-0d25-4f40-ebf2-f2ff98e43c68"
      },
      "execution_count": 7,
      "outputs": [
        {
          "output_type": "execute_result",
          "data": {
            "text/plain": [
              "[<matplotlib.lines.Line2D at 0x7fe1873da090>]"
            ]
          },
          "metadata": {},
          "execution_count": 7
        },
        {
          "output_type": "display_data",
          "data": {
            "text/plain": [
              "<Figure size 432x288 with 1 Axes>"
            ],
            "image/png": "[encoded data removed]"
          },
          "metadata": {
            "needs_background": "light"
          }
        }
      ]
    },
    {
      "cell_type": "code",
      "source": [
        "df_close = df['Close']\n",
        "df_close"
      ],
      "metadata": {
        "colab": {
          "base_uri": "https://localhost:8080/"
        },
        "id": "qcRUJFO360rd",
        "outputId": "af2bfc8f-48f1-4a7a-8b4d-db0bf0e2df28"
      },
      "execution_count": 8,
      "outputs": [
        {
          "output_type": "execute_result",
          "data": {
            "text/plain": [
              "2034    121.55\n",
              "2033    120.90\n",
              "2032    120.65\n",
              "2031    117.60\n",
              "2030    118.65\n",
              "         ...  \n",
              "4       233.30\n",
              "3       236.10\n",
              "2       234.25\n",
              "1       233.25\n",
              "0       233.75\n",
              "Name: Close, Length: 2035, dtype: float64"
            ]
          },
          "metadata": {},
          "execution_count": 8
        }
      ]
    },
    {
      "cell_type": "code",
      "source": [
        "scaler = MinMaxScaler(feature_range=(0,1))"
      ],
      "metadata": {
        "id": "XAitwIsz7L2g"
      },
      "execution_count": 9,
      "outputs": []
    },
    {
      "cell_type": "code",
      "source": [
        "df_close = scaler.fit_transform(np.array(df_close).reshape(-1,1))\n",
        "df_close"
      ],
      "metadata": {
        "colab": {
          "base_uri": "https://localhost:8080/"
        },
        "id": "t2mvunSA7c2U",
        "outputId": "7dab1207-c353-4cfe-aaf6-90ab5420c638"
      },
      "execution_count": 10,
      "outputs": [
        {
          "output_type": "execute_result",
          "data": {
            "text/plain": [
              "array([[0.16584967],\n",
              "       [0.16319444],\n",
              "       [0.1621732 ],\n",
              "       ...,\n",
              "       [0.62622549],\n",
              "       [0.62214052],\n",
              "       [0.62418301]])"
            ]
          },
          "metadata": {},
          "execution_count": 10
        }
      ]
    },
    {
      "cell_type": "markdown",
      "source": [
        "The scaling and transformation is complete as you can see it above in any array\n",
        "\n",
        "Now, it is time to split the data"
      ],
      "metadata": {
        "id": "z9iFBLUC7xul"
      }
    },
    {
      "cell_type": "code",
      "source": [
        "training_size = int(len(df_close)*0.70)\n",
        "test_size = len(df_close) - training_size\n",
        "train, test = df_close[0: training_size,:], df_close[training_size : len(df_close),:1]"
      ],
      "metadata": {
        "id": "_Khv_Vk3EnC9"
      },
      "execution_count": 21,
      "outputs": []
    },
    {
      "cell_type": "code",
      "source": [
        "# Let us convert the array values previously calculated into a matrix\n",
        "def create_mat(ds, time_step = 1):\n",
        "    dataX, dataY = [], []\n",
        "    for i in range(len(ds)-time_step-1):\n",
        "        a = ds[i:(i+time_step),0]\n",
        "        dataX.append(a)\n",
        "        dataY.append(ds[i + time_step, 0])\n",
        "    return np.array(dataX), np.array(dataY)"
      ],
      "metadata": {
        "id": "nvK-a5UEEsMs"
      },
      "execution_count": 22,
      "outputs": []
    },
    {
      "cell_type": "code",
      "source": [
        "time_step = 100\n",
        "X_train, y_train = create_mat(train, time_step)\n",
        "X_test, y_test = create_mat(test, time_step)"
      ],
      "metadata": {
        "id": "9NY9GDbUEzR5"
      },
      "execution_count": 23,
      "outputs": []
    },
    {
      "cell_type": "code",
      "source": [
        "X_train.shape"
      ],
      "metadata": {
        "colab": {
          "base_uri": "https://localhost:8080/"
        },
        "id": "22-YWM1cE3cn",
        "outputId": "02925f26-76ea-42bb-e2d9-8275c7fcc9f3"
      },
      "execution_count": 24,
      "outputs": [
        {
          "output_type": "execute_result",
          "data": {
            "text/plain": [
              "(1323, 100)"
            ]
          },
          "metadata": {},
          "execution_count": 24
        }
      ]
    },
    {
      "cell_type": "code",
      "source": [
        "y_train.shape"
      ],
      "metadata": {
        "colab": {
          "base_uri": "https://localhost:8080/"
        },
        "id": "Ag-JkJT1E-74",
        "outputId": "40749800-eab2-4013-8420-6cedd765b582"
      },
      "execution_count": 25,
      "outputs": [
        {
          "output_type": "execute_result",
          "data": {
            "text/plain": [
              "(1323,)"
            ]
          },
          "metadata": {},
          "execution_count": 25
        }
      ]
    },
    {
      "cell_type": "code",
      "source": [
        "X_test.shape"
      ],
      "metadata": {
        "colab": {
          "base_uri": "https://localhost:8080/"
        },
        "id": "xsW-v3agY15Y",
        "outputId": "96d27217-267c-4448-aeb8-5357f99913d4"
      },
      "execution_count": 26,
      "outputs": [
        {
          "output_type": "execute_result",
          "data": {
            "text/plain": [
              "(510, 100)"
            ]
          },
          "metadata": {},
          "execution_count": 26
        }
      ]
    },
    {
      "cell_type": "code",
      "source": [
        "y_test.shape"
      ],
      "metadata": {
        "colab": {
          "base_uri": "https://localhost:8080/"
        },
        "id": "Mc5KL7MyY-t6",
        "outputId": "b0ff1aaa-6af7-43e5-ef6e-7c194c7a1655"
      },
      "execution_count": 27,
      "outputs": [
        {
          "output_type": "execute_result",
          "data": {
            "text/plain": [
              "(510,)"
            ]
          },
          "metadata": {},
          "execution_count": 27
        }
      ]
    },
    {
      "cell_type": "code",
      "source": [
        "X_train = X_train.reshape(X_train.shape[0], X_train.shape[1], 1)\n",
        "X_test = X_test.reshape(X_test.shape[0], X_test.shape[1], 1)"
      ],
      "metadata": {
        "id": "dR4hLvT8ZD4v"
      },
      "execution_count": 29,
      "outputs": []
    },
    {
      "cell_type": "markdown",
      "source": [
        "It is now time to Create the LSTM Model\n"
      ],
      "metadata": {
        "id": "teg85yIxZMFi"
      }
    },
    {
      "cell_type": "code",
      "source": [
        "from tensorflow.keras.models import Sequential\n",
        "from tensorflow.keras.layers import Dense\n",
        "from tensorflow.keras.layers import LSTM"
      ],
      "metadata": {
        "id": "gzB6Fdk1ZNYf"
      },
      "execution_count": 30,
      "outputs": []
    },
    {
      "cell_type": "code",
      "source": [
        "model = Sequential()\n",
        "model.add(LSTM(50,return_sequences=True,input_shape=(100,1)))\n",
        "model.add(LSTM(50,return_sequences=True))\n",
        "model.add(LSTM(50))\n",
        "model.add(Dense(1))\n",
        "model.compile(loss='mean_squared_error',optimizer='adam')\n",
        "model.summary()"
      ],
      "metadata": {
        "colab": {
          "base_uri": "https://localhost:8080/"
        },
        "id": "ow5NhqF5ZUOm",
        "outputId": "b5e1a8bb-6c6c-45db-e4b1-2e60923cc6a7"
      },
      "execution_count": 31,
      "outputs": [
        {
          "output_type": "stream",
          "name": "stdout",
          "text": [
            "Model: \"sequential\"\n",
            "_________________________________________________________________\n",
            " Layer (type)                Output Shape              Param #   \n",
            "=================================================================\n",
            " lstm (LSTM)                 (None, 100, 50)           10400     \n",
            "                                                                 \n",
            " lstm_1 (LSTM)               (None, 100, 50)           20200     \n",
            "                                                                 \n",
            " lstm_2 (LSTM)               (None, 50)                20200     \n",
            "                                                                 \n",
            " dense (Dense)               (None, 1)                 51        \n",
            "                                                                 \n",
            "=================================================================\n",
            "Total params: 50,851\n",
            "Trainable params: 50,851\n",
            "Non-trainable params: 0\n",
            "_________________________________________________________________\n"
          ]
        }
      ]
    },
    {
      "cell_type": "code",
      "source": [
        "model.fit(X_train, y_train, validation_split=0.1, epochs= 60, batch_size=64, verbose = 1)"
      ],
      "metadata": {
        "colab": {
          "base_uri": "https://localhost:8080/"
        },
        "id": "WmDsG2htZb21",
        "outputId": "d790cd7f-570d-400a-b5b8-5929b9327e92"
      },
      "execution_count": 32,
      "outputs": [
        {
          "output_type": "stream",
          "name": "stdout",
          "text": [
            "Epoch 1/60\n",
            "19/19 [==============================] - 13s 260ms/step - loss: 0.0145 - val_loss: 0.0018\n",
            "Epoch 2/60\n",
            "19/19 [==============================] - 3s 155ms/step - loss: 0.0027 - val_loss: 0.0012\n",
            "Epoch 3/60\n",
            "19/19 [==============================] - 3s 154ms/step - loss: 0.0011 - val_loss: 0.0013\n",
            "Epoch 4/60\n",
            "19/19 [==============================] - 3s 155ms/step - loss: 9.3816e-04 - val_loss: 0.0012\n",
            "Epoch 5/60\n",
            "19/19 [==============================] - 3s 154ms/step - loss: 8.5117e-04 - val_loss: 0.0011\n",
            "Epoch 6/60\n",
            "19/19 [==============================] - 3s 154ms/step - loss: 8.1615e-04 - val_loss: 0.0011\n",
            "Epoch 7/60\n",
            "19/19 [==============================] - 3s 154ms/step - loss: 8.0012e-04 - val_loss: 0.0011\n",
            "Epoch 8/60\n",
            "19/19 [==============================] - 3s 152ms/step - loss: 7.8716e-04 - val_loss: 0.0010\n",
            "Epoch 9/60\n",
            "19/19 [==============================] - 3s 152ms/step - loss: 7.6513e-04 - val_loss: 9.8426e-04\n",
            "Epoch 10/60\n",
            "19/19 [==============================] - 3s 154ms/step - loss: 7.3803e-04 - val_loss: 9.8259e-04\n",
            "Epoch 11/60\n",
            "19/19 [==============================] - 3s 156ms/step - loss: 7.3936e-04 - val_loss: 9.1642e-04\n",
            "Epoch 12/60\n",
            "19/19 [==============================] - 3s 154ms/step - loss: 6.8504e-04 - val_loss: 8.6636e-04\n",
            "Epoch 13/60\n",
            "19/19 [==============================] - 3s 153ms/step - loss: 6.7212e-04 - val_loss: 8.2781e-04\n",
            "Epoch 14/60\n",
            "19/19 [==============================] - 3s 154ms/step - loss: 6.6497e-04 - val_loss: 7.7699e-04\n",
            "Epoch 15/60\n",
            "19/19 [==============================] - 3s 152ms/step - loss: 6.3305e-04 - val_loss: 7.5337e-04\n",
            "Epoch 16/60\n",
            "19/19 [==============================] - 3s 154ms/step - loss: 6.1635e-04 - val_loss: 7.1230e-04\n",
            "Epoch 17/60\n",
            "19/19 [==============================] - 3s 178ms/step - loss: 6.1534e-04 - val_loss: 6.9230e-04\n",
            "Epoch 18/60\n",
            "19/19 [==============================] - 3s 154ms/step - loss: 5.9052e-04 - val_loss: 7.7396e-04\n",
            "Epoch 19/60\n",
            "19/19 [==============================] - 3s 154ms/step - loss: 5.7832e-04 - val_loss: 6.7308e-04\n",
            "Epoch 20/60\n",
            "19/19 [==============================] - 3s 154ms/step - loss: 5.6917e-04 - val_loss: 6.3648e-04\n",
            "Epoch 21/60\n",
            "19/19 [==============================] - 3s 153ms/step - loss: 5.5603e-04 - val_loss: 5.8832e-04\n",
            "Epoch 22/60\n",
            "19/19 [==============================] - 3s 153ms/step - loss: 5.5271e-04 - val_loss: 7.3730e-04\n",
            "Epoch 23/60\n",
            "19/19 [==============================] - 3s 156ms/step - loss: 5.2738e-04 - val_loss: 5.6292e-04\n",
            "Epoch 24/60\n",
            "19/19 [==============================] - 3s 153ms/step - loss: 5.2436e-04 - val_loss: 5.4813e-04\n",
            "Epoch 25/60\n",
            "19/19 [==============================] - 3s 153ms/step - loss: 5.1164e-04 - val_loss: 6.2615e-04\n",
            "Epoch 26/60\n",
            "19/19 [==============================] - 3s 153ms/step - loss: 4.9635e-04 - val_loss: 5.4196e-04\n",
            "Epoch 27/60\n",
            "19/19 [==============================] - 3s 182ms/step - loss: 4.9805e-04 - val_loss: 4.9411e-04\n",
            "Epoch 28/60\n",
            "19/19 [==============================] - 3s 158ms/step - loss: 4.7869e-04 - val_loss: 4.9484e-04\n",
            "Epoch 29/60\n",
            "19/19 [==============================] - 3s 152ms/step - loss: 4.4760e-04 - val_loss: 4.6336e-04\n",
            "Epoch 30/60\n",
            "19/19 [==============================] - 3s 153ms/step - loss: 4.4133e-04 - val_loss: 4.7293e-04\n",
            "Epoch 31/60\n",
            "19/19 [==============================] - 3s 153ms/step - loss: 4.2102e-04 - val_loss: 4.4959e-04\n",
            "Epoch 32/60\n",
            "19/19 [==============================] - 3s 153ms/step - loss: 4.3597e-04 - val_loss: 4.1855e-04\n",
            "Epoch 33/60\n",
            "19/19 [==============================] - 3s 154ms/step - loss: 4.4509e-04 - val_loss: 6.1933e-04\n",
            "Epoch 34/60\n",
            "19/19 [==============================] - 3s 153ms/step - loss: 4.4553e-04 - val_loss: 3.9181e-04\n",
            "Epoch 35/60\n",
            "19/19 [==============================] - 3s 154ms/step - loss: 3.8343e-04 - val_loss: 3.7893e-04\n",
            "Epoch 36/60\n",
            "19/19 [==============================] - 3s 154ms/step - loss: 3.9153e-04 - val_loss: 3.7489e-04\n",
            "Epoch 37/60\n",
            "19/19 [==============================] - 3s 152ms/step - loss: 3.7206e-04 - val_loss: 3.7537e-04\n",
            "Epoch 38/60\n",
            "19/19 [==============================] - 3s 152ms/step - loss: 3.4655e-04 - val_loss: 3.3309e-04\n",
            "Epoch 39/60\n",
            "19/19 [==============================] - 3s 154ms/step - loss: 3.3346e-04 - val_loss: 3.4433e-04\n",
            "Epoch 40/60\n",
            "19/19 [==============================] - 3s 153ms/step - loss: 3.3401e-04 - val_loss: 3.0234e-04\n",
            "Epoch 41/60\n",
            "19/19 [==============================] - 3s 153ms/step - loss: 3.3264e-04 - val_loss: 2.9242e-04\n",
            "Epoch 42/60\n",
            "19/19 [==============================] - 3s 153ms/step - loss: 3.1368e-04 - val_loss: 2.8419e-04\n",
            "Epoch 43/60\n",
            "19/19 [==============================] - 3s 155ms/step - loss: 3.0126e-04 - val_loss: 2.7533e-04\n",
            "Epoch 44/60\n",
            "19/19 [==============================] - 3s 153ms/step - loss: 3.0238e-04 - val_loss: 2.5449e-04\n",
            "Epoch 45/60\n",
            "19/19 [==============================] - 3s 154ms/step - loss: 3.0502e-04 - val_loss: 2.6264e-04\n",
            "Epoch 46/60\n",
            "19/19 [==============================] - 3s 154ms/step - loss: 2.7701e-04 - val_loss: 2.4703e-04\n",
            "Epoch 47/60\n",
            "19/19 [==============================] - 3s 155ms/step - loss: 2.7360e-04 - val_loss: 2.4025e-04\n",
            "Epoch 48/60\n",
            "19/19 [==============================] - 3s 153ms/step - loss: 2.7363e-04 - val_loss: 2.9524e-04\n",
            "Epoch 49/60\n",
            "19/19 [==============================] - 3s 154ms/step - loss: 2.8489e-04 - val_loss: 2.3925e-04\n",
            "Epoch 50/60\n",
            "19/19 [==============================] - 3s 156ms/step - loss: 2.6205e-04 - val_loss: 2.5900e-04\n",
            "Epoch 51/60\n",
            "19/19 [==============================] - 3s 154ms/step - loss: 2.8126e-04 - val_loss: 2.6857e-04\n",
            "Epoch 52/60\n",
            "19/19 [==============================] - 3s 153ms/step - loss: 2.4712e-04 - val_loss: 2.4025e-04\n",
            "Epoch 53/60\n",
            "19/19 [==============================] - 3s 181ms/step - loss: 2.5579e-04 - val_loss: 2.2448e-04\n",
            "Epoch 54/60\n",
            "19/19 [==============================] - 3s 155ms/step - loss: 2.5645e-04 - val_loss: 2.0185e-04\n",
            "Epoch 55/60\n",
            "19/19 [==============================] - 3s 154ms/step - loss: 2.4849e-04 - val_loss: 1.9793e-04\n",
            "Epoch 56/60\n",
            "19/19 [==============================] - 3s 155ms/step - loss: 2.3216e-04 - val_loss: 2.1457e-04\n",
            "Epoch 57/60\n",
            "19/19 [==============================] - 3s 156ms/step - loss: 2.2248e-04 - val_loss: 2.2894e-04\n",
            "Epoch 58/60\n",
            "19/19 [==============================] - 3s 153ms/step - loss: 2.3870e-04 - val_loss: 1.9444e-04\n",
            "Epoch 59/60\n",
            "19/19 [==============================] - 3s 153ms/step - loss: 2.2466e-04 - val_loss: 1.9586e-04\n",
            "Epoch 60/60\n",
            "19/19 [==============================] - 3s 154ms/step - loss: 2.9578e-04 - val_loss: 1.8923e-04\n"
          ]
        },
        {
          "output_type": "execute_result",
          "data": {
            "text/plain": [
              "<keras.callbacks.History at 0x7fe11ecdedd0>"
            ]
          },
          "metadata": {},
          "execution_count": 32
        }
      ]
    },
    {
      "cell_type": "code",
      "source": [
        "predictions = model.predict(X_test)"
      ],
      "metadata": {
        "id": "0wOmw3eKaNCo"
      },
      "execution_count": 33,
      "outputs": []
    },
    {
      "cell_type": "code",
      "source": [
        "# performing inverse transform on predictions\n",
        "inv_predictions = scaler.inverse_transform(predictions)"
      ],
      "metadata": {
        "id": "KCWZ_PKIaQ4u"
      },
      "execution_count": 34,
      "outputs": []
    },
    {
      "cell_type": "code",
      "source": [
        "inv_predictions"
      ],
      "metadata": {
        "colab": {
          "base_uri": "https://localhost:8080/"
        },
        "id": "-IJKD_rQaWGp",
        "outputId": "6f9152a3-30d2-4065-e8cd-0775d1653032"
      },
      "execution_count": 35,
      "outputs": [
        {
          "output_type": "execute_result",
          "data": {
            "text/plain": [
              "array([[141.13106 ],\n",
              "       [141.32434 ],\n",
              "       [140.59015 ],\n",
              "       [138.24709 ],\n",
              "       [136.48567 ],\n",
              "       [135.7965  ],\n",
              "       [136.74312 ],\n",
              "       [138.28784 ],\n",
              "       [138.91422 ],\n",
              "       [138.67548 ],\n",
              "       [138.35193 ],\n",
              "       [139.21782 ],\n",
              "       [140.02896 ],\n",
              "       [141.4826  ],\n",
              "       [143.53885 ],\n",
              "       [142.21423 ],\n",
              "       [139.89299 ],\n",
              "       [139.11363 ],\n",
              "       [139.53755 ],\n",
              "       [143.82616 ],\n",
              "       [148.291   ],\n",
              "       [150.81174 ],\n",
              "       [151.28981 ],\n",
              "       [149.364   ],\n",
              "       [148.68068 ],\n",
              "       [148.40721 ],\n",
              "       [148.83238 ],\n",
              "       [150.41727 ],\n",
              "       [151.33928 ],\n",
              "       [151.4339  ],\n",
              "       [151.65468 ],\n",
              "       [150.65694 ],\n",
              "       [147.77426 ],\n",
              "       [142.6129  ],\n",
              "       [139.0655  ],\n",
              "       [137.9099  ],\n",
              "       [138.1083  ],\n",
              "       [137.64967 ],\n",
              "       [135.71506 ],\n",
              "       [132.33528 ],\n",
              "       [129.68301 ],\n",
              "       [128.30968 ],\n",
              "       [126.49647 ],\n",
              "       [125.61843 ],\n",
              "       [123.89787 ],\n",
              "       [121.53187 ],\n",
              "       [120.538605],\n",
              "       [120.1142  ],\n",
              "       [120.2545  ],\n",
              "       [119.55637 ],\n",
              "       [118.71828 ],\n",
              "       [118.18465 ],\n",
              "       [117.398575],\n",
              "       [117.31099 ],\n",
              "       [118.300545],\n",
              "       [119.88526 ],\n",
              "       [121.72293 ],\n",
              "       [122.69165 ],\n",
              "       [122.64719 ],\n",
              "       [122.546684],\n",
              "       [122.546776],\n",
              "       [122.35697 ],\n",
              "       [122.442215],\n",
              "       [122.75541 ],\n",
              "       [122.97838 ],\n",
              "       [123.05722 ],\n",
              "       [122.90432 ],\n",
              "       [123.08148 ],\n",
              "       [123.45254 ],\n",
              "       [123.80516 ],\n",
              "       [123.28169 ],\n",
              "       [122.39622 ],\n",
              "       [121.13496 ],\n",
              "       [119.88999 ],\n",
              "       [118.61873 ],\n",
              "       [118.47688 ],\n",
              "       [118.931076],\n",
              "       [119.82929 ],\n",
              "       [120.91119 ],\n",
              "       [122.122345],\n",
              "       [123.278915],\n",
              "       [124.05231 ],\n",
              "       [124.52404 ],\n",
              "       [124.579124],\n",
              "       [124.39914 ],\n",
              "       [124.10498 ],\n",
              "       [124.620026],\n",
              "       [124.990746],\n",
              "       [125.82757 ],\n",
              "       [126.627174],\n",
              "       [127.09954 ],\n",
              "       [127.5025  ],\n",
              "       [128.28548 ],\n",
              "       [128.07063 ],\n",
              "       [127.569336],\n",
              "       [127.34504 ],\n",
              "       [127.40104 ],\n",
              "       [127.80974 ],\n",
              "       [128.6285  ],\n",
              "       [129.02629 ],\n",
              "       [129.29068 ],\n",
              "       [131.45996 ],\n",
              "       [135.47504 ],\n",
              "       [139.49043 ],\n",
              "       [141.61298 ],\n",
              "       [143.07732 ],\n",
              "       [143.26912 ],\n",
              "       [142.66493 ],\n",
              "       [141.36969 ],\n",
              "       [140.01442 ],\n",
              "       [138.51797 ],\n",
              "       [137.92024 ],\n",
              "       [138.19464 ],\n",
              "       [139.27861 ],\n",
              "       [140.4317  ],\n",
              "       [140.6673  ],\n",
              "       [140.01672 ],\n",
              "       [139.06027 ],\n",
              "       [138.09998 ],\n",
              "       [139.12433 ],\n",
              "       [140.31972 ],\n",
              "       [141.57599 ],\n",
              "       [142.40277 ],\n",
              "       [142.5067  ],\n",
              "       [141.76247 ],\n",
              "       [140.66089 ],\n",
              "       [138.73187 ],\n",
              "       [137.71982 ],\n",
              "       [138.17685 ],\n",
              "       [140.41214 ],\n",
              "       [142.868   ],\n",
              "       [144.87288 ],\n",
              "       [145.69672 ],\n",
              "       [144.66096 ],\n",
              "       [145.61958 ],\n",
              "       [147.63443 ],\n",
              "       [148.44017 ],\n",
              "       [148.67317 ],\n",
              "       [148.70518 ],\n",
              "       [148.55682 ],\n",
              "       [148.53157 ],\n",
              "       [149.08958 ],\n",
              "       [150.06009 ],\n",
              "       [150.99854 ],\n",
              "       [150.72069 ],\n",
              "       [149.9528  ],\n",
              "       [150.19284 ],\n",
              "       [150.48073 ],\n",
              "       [150.12793 ],\n",
              "       [149.19585 ],\n",
              "       [147.95845 ],\n",
              "       [147.77278 ],\n",
              "       [148.98318 ],\n",
              "       [150.16031 ],\n",
              "       [150.89145 ],\n",
              "       [151.00409 ],\n",
              "       [151.4306  ],\n",
              "       [151.40265 ],\n",
              "       [151.37047 ],\n",
              "       [152.95819 ],\n",
              "       [154.41399 ],\n",
              "       [154.68541 ],\n",
              "       [153.13257 ],\n",
              "       [151.39131 ],\n",
              "       [150.98338 ],\n",
              "       [151.82797 ],\n",
              "       [152.6383  ],\n",
              "       [152.51466 ],\n",
              "       [152.58171 ],\n",
              "       [152.83214 ],\n",
              "       [152.50604 ],\n",
              "       [150.12389 ],\n",
              "       [148.212   ],\n",
              "       [147.05188 ],\n",
              "       [145.69945 ],\n",
              "       [143.66867 ],\n",
              "       [142.46637 ],\n",
              "       [143.50851 ],\n",
              "       [144.93716 ],\n",
              "       [145.7861  ],\n",
              "       [147.11678 ],\n",
              "       [149.28064 ],\n",
              "       [151.84102 ],\n",
              "       [153.54727 ],\n",
              "       [153.31036 ],\n",
              "       [152.91208 ],\n",
              "       [152.52295 ],\n",
              "       [152.23032 ],\n",
              "       [151.36104 ],\n",
              "       [151.98839 ],\n",
              "       [154.10406 ],\n",
              "       [156.34444 ],\n",
              "       [157.28716 ],\n",
              "       [156.45161 ],\n",
              "       [155.24373 ],\n",
              "       [154.5334  ],\n",
              "       [153.73474 ],\n",
              "       [151.91362 ],\n",
              "       [148.9922  ],\n",
              "       [147.37666 ],\n",
              "       [147.11066 ],\n",
              "       [148.27583 ],\n",
              "       [150.00566 ],\n",
              "       [150.70839 ],\n",
              "       [152.44427 ],\n",
              "       [153.32588 ],\n",
              "       [154.59532 ],\n",
              "       [158.7169  ],\n",
              "       [163.9209  ],\n",
              "       [168.72894 ],\n",
              "       [171.67796 ],\n",
              "       [171.75894 ],\n",
              "       [171.39255 ],\n",
              "       [170.06772 ],\n",
              "       [169.42342 ],\n",
              "       [168.20644 ],\n",
              "       [167.6298  ],\n",
              "       [167.07277 ],\n",
              "       [167.27934 ],\n",
              "       [168.34474 ],\n",
              "       [167.89497 ],\n",
              "       [167.02197 ],\n",
              "       [166.69829 ],\n",
              "       [166.07213 ],\n",
              "       [164.5509  ],\n",
              "       [163.85703 ],\n",
              "       [163.98347 ],\n",
              "       [165.91025 ],\n",
              "       [166.20197 ],\n",
              "       [163.69507 ],\n",
              "       [158.68607 ],\n",
              "       [157.86623 ],\n",
              "       [165.46333 ],\n",
              "       [179.99142 ],\n",
              "       [189.77414 ],\n",
              "       [192.42133 ],\n",
              "       [190.80405 ],\n",
              "       [185.60674 ],\n",
              "       [184.32889 ],\n",
              "       [185.29816 ],\n",
              "       [186.19008 ],\n",
              "       [185.34546 ],\n",
              "       [187.27277 ],\n",
              "       [190.46928 ],\n",
              "       [192.16145 ],\n",
              "       [190.14891 ],\n",
              "       [189.0358  ],\n",
              "       [193.58197 ],\n",
              "       [198.34816 ],\n",
              "       [200.38654 ],\n",
              "       [200.95082 ],\n",
              "       [201.99846 ],\n",
              "       [200.54475 ],\n",
              "       [200.78726 ],\n",
              "       [201.42273 ],\n",
              "       [203.02927 ],\n",
              "       [205.63698 ],\n",
              "       [205.97461 ],\n",
              "       [204.19492 ],\n",
              "       [197.49472 ],\n",
              "       [190.58481 ],\n",
              "       [192.12224 ],\n",
              "       [194.25127 ],\n",
              "       [196.77959 ],\n",
              "       [199.47331 ],\n",
              "       [200.91689 ],\n",
              "       [200.0136  ],\n",
              "       [200.5201  ],\n",
              "       [201.6275  ],\n",
              "       [201.46872 ],\n",
              "       [200.74509 ],\n",
              "       [200.77335 ],\n",
              "       [202.45064 ],\n",
              "       [203.06319 ],\n",
              "       [202.3122  ],\n",
              "       [201.8366  ],\n",
              "       [200.28273 ],\n",
              "       [198.0556  ],\n",
              "       [196.31029 ],\n",
              "       [199.06075 ],\n",
              "       [200.40839 ],\n",
              "       [201.88611 ],\n",
              "       [207.82745 ],\n",
              "       [215.3364  ],\n",
              "       [218.41376 ],\n",
              "       [217.38176 ],\n",
              "       [214.5527  ],\n",
              "       [212.36751 ],\n",
              "       [216.67001 ],\n",
              "       [216.59746 ],\n",
              "       [213.67822 ],\n",
              "       [220.02258 ],\n",
              "       [224.85997 ],\n",
              "       [223.84134 ],\n",
              "       [227.22993 ],\n",
              "       [233.0765  ],\n",
              "       [235.92902 ],\n",
              "       [239.18826 ],\n",
              "       [248.27896 ],\n",
              "       [252.4078  ],\n",
              "       [251.00833 ],\n",
              "       [249.05348 ],\n",
              "       [250.77925 ],\n",
              "       [252.21938 ],\n",
              "       [257.82138 ],\n",
              "       [257.22516 ],\n",
              "       [257.903   ],\n",
              "       [257.41583 ],\n",
              "       [254.22473 ],\n",
              "       [253.16164 ],\n",
              "       [251.50829 ],\n",
              "       [255.84776 ],\n",
              "       [262.0343  ],\n",
              "       [269.04883 ],\n",
              "       [265.09332 ],\n",
              "       [257.6566  ],\n",
              "       [255.40178 ],\n",
              "       [258.5946  ],\n",
              "       [263.42468 ],\n",
              "       [270.2837  ],\n",
              "       [272.61118 ],\n",
              "       [270.56146 ],\n",
              "       [270.0159  ],\n",
              "       [272.4016  ],\n",
              "       [273.6023  ],\n",
              "       [273.78754 ],\n",
              "       [278.97415 ],\n",
              "       [280.06628 ],\n",
              "       [277.27875 ],\n",
              "       [275.70856 ],\n",
              "       [276.72836 ],\n",
              "       [278.2261  ],\n",
              "       [281.183   ],\n",
              "       [281.08838 ],\n",
              "       [279.1493  ],\n",
              "       [277.92776 ],\n",
              "       [284.9586  ],\n",
              "       [287.7468  ],\n",
              "       [282.38422 ],\n",
              "       [277.24823 ],\n",
              "       [272.44153 ],\n",
              "       [273.3197  ],\n",
              "       [276.13626 ],\n",
              "       [276.2104  ],\n",
              "       [273.56973 ],\n",
              "       [272.29993 ],\n",
              "       [271.36694 ],\n",
              "       [272.41843 ],\n",
              "       [265.9441  ],\n",
              "       [260.38947 ],\n",
              "       [252.77734 ],\n",
              "       [249.44064 ],\n",
              "       [247.35162 ],\n",
              "       [254.8795  ],\n",
              "       [260.75443 ],\n",
              "       [259.2727  ],\n",
              "       [259.72498 ],\n",
              "       [259.12213 ],\n",
              "       [256.32816 ],\n",
              "       [252.87122 ],\n",
              "       [247.72212 ],\n",
              "       [243.10976 ],\n",
              "       [244.6585  ],\n",
              "       [245.28963 ],\n",
              "       [249.34018 ],\n",
              "       [253.4968  ],\n",
              "       [254.8469  ],\n",
              "       [254.02089 ],\n",
              "       [252.50702 ],\n",
              "       [252.20918 ],\n",
              "       [251.75601 ],\n",
              "       [248.5927  ],\n",
              "       [249.25578 ],\n",
              "       [248.59325 ],\n",
              "       [251.74924 ],\n",
              "       [255.51762 ],\n",
              "       [256.40363 ],\n",
              "       [255.88416 ],\n",
              "       [251.37308 ],\n",
              "       [242.14293 ],\n",
              "       [239.19948 ],\n",
              "       [242.37436 ],\n",
              "       [243.03548 ],\n",
              "       [241.42056 ],\n",
              "       [242.80942 ],\n",
              "       [245.42085 ],\n",
              "       [243.4531  ],\n",
              "       [250.56726 ],\n",
              "       [255.41199 ],\n",
              "       [252.00693 ],\n",
              "       [249.2445  ],\n",
              "       [249.21118 ],\n",
              "       [252.83475 ],\n",
              "       [253.84125 ],\n",
              "       [251.8428  ],\n",
              "       [250.41315 ],\n",
              "       [251.43585 ],\n",
              "       [254.89856 ],\n",
              "       [257.28384 ],\n",
              "       [258.9073  ],\n",
              "       [260.1568  ],\n",
              "       [260.2662  ],\n",
              "       [258.2768  ],\n",
              "       [256.79123 ],\n",
              "       [260.13928 ],\n",
              "       [264.00717 ],\n",
              "       [265.19116 ],\n",
              "       [267.3386  ],\n",
              "       [265.72073 ],\n",
              "       [260.28403 ],\n",
              "       [258.5976  ],\n",
              "       [263.67062 ],\n",
              "       [264.7684  ],\n",
              "       [264.2757  ],\n",
              "       [260.3029  ],\n",
              "       [259.34924 ],\n",
              "       [243.02313 ],\n",
              "       [225.5598  ],\n",
              "       [222.07071 ],\n",
              "       [230.9751  ],\n",
              "       [236.4571  ],\n",
              "       [235.30511 ],\n",
              "       [234.48317 ],\n",
              "       [236.19499 ],\n",
              "       [239.4784  ],\n",
              "       [242.25293 ],\n",
              "       [243.8109  ],\n",
              "       [241.74374 ],\n",
              "       [243.07442 ],\n",
              "       [247.52893 ],\n",
              "       [246.37556 ],\n",
              "       [238.98152 ],\n",
              "       [239.45985 ],\n",
              "       [244.61455 ],\n",
              "       [247.96408 ],\n",
              "       [247.74278 ],\n",
              "       [244.59802 ],\n",
              "       [244.82597 ],\n",
              "       [247.57817 ],\n",
              "       [253.40807 ],\n",
              "       [252.98792 ],\n",
              "       [251.60753 ],\n",
              "       [246.91357 ],\n",
              "       [240.91501 ],\n",
              "       [237.87328 ],\n",
              "       [240.84196 ],\n",
              "       [245.47752 ],\n",
              "       [248.59561 ],\n",
              "       [247.73456 ],\n",
              "       [244.91843 ],\n",
              "       [246.44164 ],\n",
              "       [246.0518  ],\n",
              "       [253.56145 ],\n",
              "       [257.05222 ],\n",
              "       [252.01068 ],\n",
              "       [244.83388 ],\n",
              "       [247.69452 ],\n",
              "       [252.47656 ],\n",
              "       [250.96573 ],\n",
              "       [245.55583 ],\n",
              "       [239.79686 ],\n",
              "       [229.95203 ],\n",
              "       [228.47952 ],\n",
              "       [227.4184  ],\n",
              "       [223.83203 ],\n",
              "       [225.07083 ],\n",
              "       [230.42276 ],\n",
              "       [234.84946 ],\n",
              "       [230.2716  ],\n",
              "       [225.83058 ],\n",
              "       [226.79492 ],\n",
              "       [229.14104 ],\n",
              "       [232.31816 ],\n",
              "       [227.69627 ],\n",
              "       [222.44897 ],\n",
              "       [220.87279 ],\n",
              "       [224.493   ],\n",
              "       [226.73647 ],\n",
              "       [225.74329 ],\n",
              "       [224.61949 ],\n",
              "       [222.46053 ],\n",
              "       [221.67181 ],\n",
              "       [223.68272 ],\n",
              "       [226.3966  ],\n",
              "       [229.17603 ],\n",
              "       [231.07768 ],\n",
              "       [228.73773 ],\n",
              "       [223.34517 ],\n",
              "       [218.32234 ],\n",
              "       [220.34929 ],\n",
              "       [222.42317 ],\n",
              "       [223.19466 ],\n",
              "       [223.81082 ],\n",
              "       [223.16798 ],\n",
              "       [223.50208 ],\n",
              "       [217.43839 ],\n",
              "       [211.6865  ],\n",
              "       [209.99796 ],\n",
              "       [212.26035 ],\n",
              "       [214.17168 ],\n",
              "       [211.4194  ],\n",
              "       [211.64862 ],\n",
              "       [219.16624 ],\n",
              "       [226.08792 ],\n",
              "       [226.43118 ],\n",
              "       [223.19633 ],\n",
              "       [220.66924 ],\n",
              "       [219.5824  ],\n",
              "       [221.1848  ],\n",
              "       [222.03531 ]], dtype=float32)"
            ]
          },
          "metadata": {},
          "execution_count": 35
        }
      ]
    },
    {
      "cell_type": "markdown",
      "source": [
        "Since we have predicted the values, now let us check mean squared error for our model\n",
        "\n"
      ],
      "metadata": {
        "id": "qHS8uAceampG"
      }
    },
    {
      "cell_type": "code",
      "source": [
        "import math\n",
        "from sklearn.metrics import mean_squared_error"
      ],
      "metadata": {
        "id": "41AT9CBsapBL"
      },
      "execution_count": 36,
      "outputs": []
    },
    {
      "cell_type": "code",
      "source": [
        "mse = math.sqrt(mean_squared_error(y_test, predictions))\n",
        "print(\"The Mean Squared Error for above model is: \", mse)"
      ],
      "metadata": {
        "colab": {
          "base_uri": "https://localhost:8080/"
        },
        "id": "j-5ufKJLayDD",
        "outputId": "a4776b69-51f1-4bcf-cf23-0dcb2c16ff27"
      },
      "execution_count": 37,
      "outputs": [
        {
          "output_type": "stream",
          "name": "stdout",
          "text": [
            "The Mean Squared Error for above model is:  0.0642525972099519\n"
          ]
        }
      ]
    },
    {
      "cell_type": "code",
      "source": [
        ""
      ],
      "metadata": {
        "id": "EAcqaWgla9iI"
      },
      "execution_count": null,
      "outputs": []
    }
  ]
}